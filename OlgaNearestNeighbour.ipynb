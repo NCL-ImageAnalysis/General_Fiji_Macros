{
 "cells": [
  {
   "cell_type": "markdown",
   "metadata": {},
   "source": [
    "In the cell below enter in the path where your csv files are located and a seperate folder where you want to output the results. Then hit Run All at the top.\n",
    "\n",
    "If it prompts you to select an enviroment select jupyter-env.\n",
    "\n",
    "The first time you run this is VS code you may need to go on the extensions tag on the left hand bar and install the jupyter extension"
   ]
  },
  {
   "cell_type": "code",
   "execution_count": null,
   "metadata": {},
   "outputs": [],
   "source": [
    "inputpath = r\"YourPathHere\"\n",
    "outputpath = r\"YourPathHere\""
   ]
  },
  {
   "cell_type": "code",
   "execution_count": null,
   "metadata": {},
   "outputs": [],
   "source": [
    "import numpy as np\n",
    "import pandas as pd\n",
    "import os\n",
    "import math\n",
    "import re\n",
    "from tqdm import tqdm\n",
    "\n",
    "def distanceBetweenPoints(X1, Y1, X2, Y2):\n",
    "\t\"\"\"Calculates the distance between two coordinates\n",
    "\n",
    "\tArgs:\n",
    "\t\tX1 (float): Start X coordinate\n",
    "\t\tY1 (float): Start Y coordinate\n",
    "\t\tX2 (float): End X coordinate\n",
    "\t\tY2 (float): End Y coordinate\n",
    "\n",
    "\tReturns:\n",
    "\t\tfloat: Distance between the two points\n",
    "\t\"\"\"\t\n",
    "\txdiff = X1 - X2\n",
    "\tydiff = Y1 - Y2\n",
    "\tDistance = math.sqrt((xdiff*xdiff) + (ydiff*ydiff))\n",
    "\treturn Distance\n",
    "\n",
    "def vectorisableDistance(Coord, OtherCoord):\n",
    "\treturn distanceBetweenPoints(Coord[0], Coord[1], OtherCoord[0], OtherCoord[1])\n",
    "\n",
    "def getDistances(dataframe1, dataframe2):\n",
    "\tOutDict = {}\n",
    "\tfor i in tqdm(range(len(dataframe1))):\n",
    "\t\tcopieddf = dataframe2.copy()\n",
    "\t\tX2 = dataframe1[\"X\"][i]\n",
    "\t\tY2 = dataframe1[\"Y\"][i]\n",
    "\t\tcopieddf[\"X2\"] = X2\n",
    "\t\tcopieddf[\"Y2\"] = Y2\n",
    "\t\tcopieddf[\"Distance\"] = np.sqrt(((copieddf[\"X\"] - copieddf[\"X2\"])**2) + ((copieddf[\"Y\"] - copieddf[\"Y2\"])**2))\n",
    "\t\tOutDict[f\"{X2}, {Y2}\"] = copieddf[\"Distance\"]\n",
    "\treturn pd.DataFrame(OutDict)\n",
    "\n",
    "if not os.path.exists(outputpath):\n",
    "\tos.makedirs(outputpath)\n",
    "\n",
    "regexpattern = re.compile(r\"\\.csv$\", re.IGNORECASE)\n",
    "pathlist = [f for f in os.listdir(inputpath) if regexpattern.search(f)]\n",
    "\n",
    "dfdict = {}\n",
    "for csvfilename in pathlist:\n",
    "\tf = csvfilename.split(\"_\")\n",
    "\tcommonfilename = \"_\".join(f[:-1])\n",
    "\tif commonfilename not in dfdict:\n",
    "\t\tdfdict[commonfilename] = {}\n",
    "\tdfdict[commonfilename][f[-1].split(\".\")[0]] = pd.read_csv(os.path.join(inputpath, csvfilename))\n",
    "\n",
    "for filename in dfdict:\n",
    "\tRealData = getDistances(dfdict[filename][\"1\"], dfdict[filename][\"2\"])\n",
    "\tprint(f\"Saving {filename}_RealDistances.csv\")\n",
    "\tRealData.to_csv(os.path.join(outputpath, f\"{filename}_RealDistances.csv\"), index=False)\n",
    "\tfor set in range(int((dfdict[filename][\"random\"].shape[1] - 1) / 2)):\n",
    "\t\tsubset = dfdict[filename][\"random\"].filter(items=[f\"X{set+1}\", f\"Y{set+1}\"])\n",
    "\t\tsubset.columns = [\"X\", \"Y\"]\n",
    "\t\tRandomData = getDistances(dfdict[filename][\"1\"], subset)\n",
    "\t\tprint(f\"Saving {filename}_RandomDistances_{set+1}.csv\")\n",
    "\t\tRandomData.to_csv(os.path.join(outputpath, f\"{filename}_RandomDistances_{set+1}.csv\"), index=False)"
   ]
  }
 ],
 "metadata": {
  "kernelspec": {
   "display_name": "Python 3",
   "language": "python",
   "name": "python3"
  },
  "language_info": {
   "codemirror_mode": {
    "name": "ipython",
    "version": 3
   },
   "file_extension": ".py",
   "mimetype": "text/x-python",
   "name": "python",
   "nbconvert_exporter": "python",
   "pygments_lexer": "ipython3",
   "version": "3.12.4"
  }
 },
 "nbformat": 4,
 "nbformat_minor": 2
}
